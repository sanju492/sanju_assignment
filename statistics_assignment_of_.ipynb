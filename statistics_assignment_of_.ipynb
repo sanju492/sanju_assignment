{
  "nbformat": 4,
  "nbformat_minor": 0,
  "metadata": {
    "colab": {
      "provenance": [],
      "authorship_tag": "ABX9TyP4aUUyIo+Wj/sbCnnJwpJQ",
      "include_colab_link": true
    },
    "kernelspec": {
      "name": "python3",
      "display_name": "Python 3"
    },
    "language_info": {
      "name": "python"
    }
  },
  "cells": [
    {
      "cell_type": "markdown",
      "metadata": {
        "id": "view-in-github",
        "colab_type": "text"
      },
      "source": [
        "<a href=\"https://colab.research.google.com/github/sanju492/sanju_assignment/blob/main/statistics_assignment_of_.ipynb\" target=\"_parent\"><img src=\"https://colab.research.google.com/assets/colab-badge.svg\" alt=\"Open In Colab\"/></a>"
      ]
    },
    {
      "cell_type": "markdown",
      "source": [
        "# 1:Dataset: Monthly temperatures in a city (in °C): 12, 15, 14, 16, 18, 20, 22, 19,\n",
        "17, 15, 13, 10 Questions:\n"
      ],
      "metadata": {
        "id": "ixIg8k0-klTK"
      }
    },
    {
      "cell_type": "code",
      "source": [
        "import statistics as stats\n",
        "\n",
        "# Dataset\n",
        "temps = [12, 15, 14, 16, 18, 20, 22, 19, 17, 15, 13, 10]\n",
        "\n",
        "# a) Mean\n",
        "mean_val = stats.mean(temps)\n",
        "\n",
        "# b) Median\n",
        "median_val = stats.median(temps)\n",
        "\n",
        "# c) Mode\n",
        "mode_val = stats.mode(temps)\n",
        "\n",
        "# d) Range and Variance\n",
        "range_val = max(temps) - min(temps)\n",
        "variance_val = stats.pvariance(temps)   # population variance\n",
        "\n",
        "# Output\n",
        "print(\"Mean Temperature =\", mean_val)\n",
        "print(\"Median Temperature =\", median_val)\n",
        "print(\"Mode Temperature =\", mode_val)\n",
        "print(\"Range =\", range_val)\n",
        "print(\"Variance =\", variance_val)\n"
      ],
      "metadata": {
        "colab": {
          "base_uri": "https://localhost:8080/"
        },
        "id": "m2iyOQgPkLXN",
        "outputId": "99c222a7-622b-4dbb-91fe-9f03cb07b693"
      },
      "execution_count": null,
      "outputs": [
        {
          "output_type": "stream",
          "name": "stdout",
          "text": [
            "Mean Temperature = 15.916666666666666\n",
            "Median Temperature = 15.5\n",
            "Mode Temperature = 15\n",
            "Range = 12\n",
            "Variance = 11.07638888888889\n"
          ]
        }
      ]
    },
    {
      "cell_type": "markdown",
      "source": [
        "#2:Dataset: Heights of students (in cm): 150, 160, 165, 170, 155, 160, 162, 168\n",
        "Questions: a) Calculate the range of the heights.\n",
        "b) Calculate the variance of the heights.\n",
        "c) Standard Deviation"
      ],
      "metadata": {
        "id": "HxND1fY2k3iq"
      }
    },
    {
      "cell_type": "code",
      "source": [
        "# Dataset\n",
        "data = [150, 160, 165, 170, 155, 160, 162, 168]\n",
        "\n",
        "n = len(data)\n",
        "\n",
        "# a) Range\n",
        "range_val = max(data) - min(data)\n",
        "\n",
        "# b) Variance (population)\n",
        "mean_val = sum(data) / n\n",
        "variance_val = sum((x - mean_val) ** 2 for x in data) / n\n",
        "\n",
        "# c) Standard Deviation\n",
        "std_dev = variance_val ** 0.5\n",
        "\n",
        "# Output\n",
        "print(\"Range =\", range_val)\n",
        "print(\"Variance =\", variance_val)\n",
        "print(\"Standard Deviation =\", std_dev)\n"
      ],
      "metadata": {
        "colab": {
          "base_uri": "https://localhost:8080/"
        },
        "id": "q5pjtr8VkS_6",
        "outputId": "54f9f48a-8774-4f25-c7df-2343df4449e0"
      },
      "execution_count": null,
      "outputs": [
        {
          "output_type": "stream",
          "name": "stdout",
          "text": [
            "Range = 20\n",
            "Variance = 38.1875\n",
            "Standard Deviation = 6.179603547154137\n"
          ]
        }
      ]
    },
    {
      "cell_type": "markdown",
      "source": [
        "#3:Dataset: Weekly expenses (in $): 200, 250, 300, 220, 270, 290, 310\n",
        "Questions: a) Calculate the standard deviation of the weekly expenses.\n"
      ],
      "metadata": {
        "id": "j8-kpx8loT-r"
      }
    },
    {
      "cell_type": "code",
      "source": [
        "# Dataset\n",
        "data = [200, 250, 300, 220, 270, 290, 310]\n",
        "\n",
        "n = len(data)\n",
        "mean_val = sum(data) / n\n",
        "\n",
        "# Variance (Population)\n",
        "variance_val = sum((x - mean_val) ** 2 for x in data) / n\n",
        "\n",
        "# Standard Deviation\n",
        "std_dev = variance_val ** 0.5\n",
        "\n",
        "print(\"Standard Deviation =\", std_dev)"
      ],
      "metadata": {
        "colab": {
          "base_uri": "https://localhost:8080/"
        },
        "id": "HdA0HLFUoBTi",
        "outputId": "c7bc0d5d-0bc9-47a2-803e-653d39c89220"
      },
      "execution_count": null,
      "outputs": [
        {
          "output_type": "stream",
          "name": "stdout",
          "text": [
            "Standard Deviation = 38.438925848782034\n"
          ]
        }
      ]
    },
    {
      "cell_type": "markdown",
      "source": [
        "#4:Dataset: Weekly expenses (in $): 200, 250, 300, 220, 270, 290, 310\n",
        "Questions: a) Calculate the standard deviation of the weekly expenses"
      ],
      "metadata": {
        "id": "sju4iHlBqK4I"
      }
    },
    {
      "cell_type": "code",
      "source": [
        "# Dataset\n",
        "data = [200, 250, 300, 220, 270, 290, 310]\n",
        "\n",
        "n = len(data)\n",
        "\n",
        "# Step 1: Mean\n",
        "mean_val = sum(data) / n\n",
        "\n",
        "# Step 2: Variance (using loop)\n",
        "squared_diff_sum = 0\n",
        "for x in data:\n",
        "    squared_diff_sum += (x - mean_val) ** 2\n",
        "\n",
        "variance = squared_diff_sum / n   # population variance\n",
        "\n",
        "# Step 3: Standard Deviation\n",
        "std_dev = variance ** 0.5\n",
        "\n",
        "print(\"Mean =\", mean_val)\n",
        "print(\"Variance =\", variance)\n",
        "print(\"Standard Deviation =\", std_dev)\n"
      ],
      "metadata": {
        "colab": {
          "base_uri": "https://localhost:8080/"
        },
        "id": "sHBGQsm_o1c6",
        "outputId": "351e62b1-2ddd-4c39-9a0a-d319e4104f2a"
      },
      "execution_count": null,
      "outputs": [
        {
          "output_type": "stream",
          "name": "stdout",
          "text": [
            "Mean = 262.85714285714283\n",
            "Variance = 1477.5510204081634\n",
            "Standard Deviation = 38.438925848782034\n"
          ]
        }
      ]
    },
    {
      "cell_type": "markdown",
      "source": [
        "#5:Dataset: Study Hours: 2, 4, 6, 8, 10; Exam Scores: 55, 60, 65, 70, 75\n",
        "Questions: a) Calculate the correlation coefficient between study hours and exam\n",
        "scores.\n",
        "b) Interpret the result.\n",
        "c) Quartiles and IQR"
      ],
      "metadata": {
        "id": "Ifm0Ksa-ronr"
      }
    },
    {
      "cell_type": "code",
      "source": [
        "import numpy as np\n",
        "import statistics as stats\n",
        "\n",
        "# Dataset\n",
        "study_hours = [2, 4, 6, 8, 10]\n",
        "exam_scores = [55, 60, 65, 70, 75]\n",
        "\n",
        "# a) Correlation coefficient\n",
        "corr_matrix = np.corrcoef(study_hours, exam_scores)\n",
        "corr_coeff = corr_matrix[0, 1]   # correlation between the two lists\n",
        "\n",
        "# b) Quartiles\n",
        "q1 = np.percentile(exam_scores, 25)\n",
        "q2 = np.percentile(exam_scores, 50)  # median\n",
        "q3 = np.percentile(exam_scores, 75)\n",
        "\n",
        "# c) Interquartile Range (IQR)\n",
        "iqr = q3 - q1\n",
        "\n",
        "# --- Output ---\n",
        "print(\"Correlation Coefficient =\", corr_coeff)\n",
        "print(\"Q1 =\", q1)\n",
        "print(\"Q2 (Median) =\", q2)\n",
        "print(\"Q3 =\", q3)\n",
        "print(\"IQR =\", iqr)\n"
      ],
      "metadata": {
        "colab": {
          "base_uri": "https://localhost:8080/"
        },
        "id": "mdsqODPJp310",
        "outputId": "3475836d-f7a8-4259-d422-4ad90830dcb5"
      },
      "execution_count": null,
      "outputs": [
        {
          "output_type": "stream",
          "name": "stdout",
          "text": [
            "Correlation Coefficient = 1.0\n",
            "Q1 = 60.0\n",
            "Q2 (Median) = 65.0\n",
            "Q3 = 70.0\n",
            "IQR = 10.0\n"
          ]
        }
      ]
    },
    {
      "cell_type": "markdown",
      "source": [
        "#6: Dataset: Monthly savings (in $): 200, 300, 400, 500, 600, 700, 800, 900, 1000,\n",
        "1100 Questions: a) Calculate the first quartile (Q1) and third quartile (Q3).\n",
        "b) Calculate the interquartile range (IQR).\n",
        "c) Detecting Outliers"
      ],
      "metadata": {
        "id": "6LgA7pn2sCpW"
      }
    },
    {
      "cell_type": "code",
      "source": [
        "import numpy as np\n",
        "\n",
        "# Dataset\n",
        "data = [200, 300, 400, 500, 600, 700, 800, 900, 1000, 1100]\n",
        "\n",
        "# a) Quartiles\n",
        "Q1 = np.percentile(data, 25)\n",
        "Q3 = np.percentile(data, 75)\n",
        "\n",
        "# b) Interquartile Range (IQR)\n",
        "IQR = Q3 - Q1\n",
        "\n",
        "# c) Detect Outliers\n",
        "lower_bound = Q1 - 1.5 * IQR\n",
        "upper_bound = Q3 + 1.5 * IQR\n",
        "outliers = [x for x in data if x < lower_bound or x > upper_bound]\n",
        "\n",
        "# Output\n",
        "print(\"Q1 =\", Q1)\n",
        "print(\"Q3 =\", Q3)\n",
        "print(\"IQR =\", IQR)\n",
        "print(\"Lower Bound =\", lower_bound)\n",
        "print(\"Upper Bound =\", upper_bound)\n",
        "print(\"Outliers =\", outliers)\n"
      ],
      "metadata": {
        "colab": {
          "base_uri": "https://localhost:8080/"
        },
        "id": "Ke-Z0oQSrsw9",
        "outputId": "1e895cac-467a-4aca-a800-da29d1c38a52"
      },
      "execution_count": null,
      "outputs": [
        {
          "output_type": "stream",
          "name": "stdout",
          "text": [
            "Q1 = 425.0\n",
            "Q3 = 875.0\n",
            "IQR = 450.0\n",
            "Lower Bound = -250.0\n",
            "Upper Bound = 1550.0\n",
            "Outliers = []\n"
          ]
        }
      ]
    },
    {
      "cell_type": "markdown",
      "source": [
        "#7;. Dataset: Ages of employees: 22, 25, 28, 30, 35, 40, 45, 50, 55, 100\n",
        "Questions: a) Identify any outliers using the IQR method"
      ],
      "metadata": {
        "id": "M_IB77gAs9vV"
      }
    },
    {
      "cell_type": "code",
      "source": [
        "import numpy as np\n",
        "\n",
        "# Dataset\n",
        "data = [22, 25, 28, 30, 35, 40, 45, 50, 55, 100]\n",
        "\n",
        "# Quartiles using numpy\n",
        "Q1 = np.percentile(data, 25)\n",
        "Q3 = np.percentile(data, 75)\n",
        "IQR = Q3 - Q1\n",
        "\n",
        "# Outlier boundaries\n",
        "lower_bound = Q1 - 1.5 * IQR\n",
        "upper_bound = Q3 + 1.5 * IQR\n",
        "\n",
        "# Find outliers\n",
        "outliers = [x for x in data if x < lower_bound or x > upper_bound]\n",
        "\n",
        "# Output\n",
        "print(\"Q1 =\", Q1)\n",
        "print(\"Q3 =\", Q3)\n",
        "print(\"IQR =\", IQR)\n",
        "print(\"Lower Bound =\", lower_bound)\n",
        "print(\"Upper Bound =\", upper_bound)\n",
        "print(\"Outliers =\", outliers)\n"
      ],
      "metadata": {
        "colab": {
          "base_uri": "https://localhost:8080/"
        },
        "id": "sgMcF2AYtBn8",
        "outputId": "5bf21cef-0aa9-4940-a811-fe90e65600eb"
      },
      "execution_count": null,
      "outputs": [
        {
          "output_type": "stream",
          "name": "stdout",
          "text": [
            "Q1 = 28.5\n",
            "Q3 = 48.75\n",
            "IQR = 20.25\n",
            "Lower Bound = -1.875\n",
            "Upper Bound = 79.125\n",
            "Outliers = [100]\n"
          ]
        }
      ]
    },
    {
      "cell_type": "markdown",
      "source": [
        "#8:Dataset: Observed frequencies of customer preferences for three products:"
      ],
      "metadata": {
        "id": "2gadTyJpushf"
      }
    },
    {
      "cell_type": "code",
      "source": [
        "import numpy as np\n",
        "from scipy.stats import chi2_contingency\n",
        "\n",
        "# Observed frequencies\n",
        "observed = np.array([[50, 55, 60],\n",
        "                     [30, 25, 35],\n",
        "                     [20, 20, 25]])\n",
        "\n",
        "# Chi-square test\n",
        "chi2, p, dof, expected = chi2_contingency(observed)\n",
        "\n",
        "# Output\n",
        "print(\"Chi-Square Value =\", chi2)\n",
        "print(\"Degrees of Freedom =\", dof)\n",
        "print(\"p-value =\", p)\n",
        "print(\"Expected Frequencies =\\n\", expected)\n",
        "\n",
        "# Hypothesis Testing\n",
        "alpha = 0.05\n",
        "if p < alpha:\n",
        "    print(\"Reject H0 → Significant difference in preferences\")\n",
        "else:\n",
        "    print(\"Fail to Reject H0 → No significant difference in preferences\")\n"
      ],
      "metadata": {
        "colab": {
          "base_uri": "https://localhost:8080/"
        },
        "id": "1v6RBa4Tuf8R",
        "outputId": "df5f0a3c-254c-4e2f-a53c-8d44a8ab3664"
      },
      "execution_count": null,
      "outputs": [
        {
          "output_type": "stream",
          "name": "stdout",
          "text": [
            "Chi-Square Value = 0.8774928774928774\n",
            "Degrees of Freedom = 4\n",
            "p-value = 0.9277673918614506\n",
            "Expected Frequencies =\n",
            " [[51.5625 51.5625 61.875 ]\n",
            " [28.125  28.125  33.75  ]\n",
            " [20.3125 20.3125 24.375 ]]\n",
            "Fail to Reject H0 → No significant difference in preferences\n"
          ]
        }
      ]
    },
    {
      "cell_type": "markdown",
      "source": [
        "#9:Dataset: Sample weights (in kg) of a new diet program: 70, 68, 72, 71, 69, 73,\n",
        "72, 74, 70, 71 Questions: a) Test the hypothesis that the mean weight after the\n",
        "diet program is equal to 70 kg at a 5% significance level. b) Z-Scores\n"
      ],
      "metadata": {
        "id": "kHGCGM8TxWUy"
      }
    },
    {
      "cell_type": "code",
      "source": [
        "import numpy as np\n",
        "import scipy.stats as stats\n",
        "\n",
        "# Dataset\n",
        "weights = [70, 68, 72, 71, 69, 73, 72, 74, 70, 71]\n",
        "\n",
        "# a) Hypothesis Testing (One-sample t-test since sample size < 30)\n",
        "t_stat, p_val = stats.ttest_1samp(weights, 70)\n",
        "\n",
        "# b) Z-Scores\n",
        "mean_val = np.mean(weights)\n",
        "std_val = np.std(weights, ddof=0)   # population std\n",
        "z_scores = [(x - mean_val) / std_val for x in weights]\n",
        "\n",
        "# Output\n",
        "print(\"Mean Weight =\", mean_val)\n",
        "print(\"t-statistic =\", t_stat)\n",
        "print(\"p-value =\", p_val)\n",
        "\n",
        "if p_val < 0.05:\n",
        "    print(\"Reject Null Hypothesis (mean ≠ 70)\")\n",
        "else:\n",
        "    print(\"Fail to Reject Null Hypothesis (mean = 70)\")\n",
        "\n",
        "print(\"Z-Scores =\", z_scores)\n"
      ],
      "metadata": {
        "id": "FrvvrHUewQkG"
      },
      "execution_count": null,
      "outputs": []
    },
    {
      "cell_type": "markdown",
      "source": [
        "#10:Dataset: Annual salaries of employees (in $1000s): 40, 42, 45, 47, 50, 52, 55,\n",
        "57, 60, 62 Questions: a) Calculate the z-scores for each salary.\n",
        "b) Interpret the z-scores.\n",
        "c) Normal Distribution"
      ],
      "metadata": {
        "id": "C8O3AnUEy4S2"
      }
    },
    {
      "cell_type": "code",
      "source": [
        "import numpy as np\n",
        "from scipy.stats import norm\n",
        "\n",
        "# Dataset\n",
        "salaries = np.array([40, 42, 45, 47, 50, 52, 55, 57, 60, 62])\n",
        "\n",
        "# Mean and Standard Deviation\n",
        "mean = np.mean(salaries)\n",
        "std_dev = np.std(salaries)\n",
        "\n",
        "# Z-scores\n",
        "z_scores = (salaries - mean) / std_dev\n",
        "print(\"Mean:\", mean)\n",
        "print(\"Standard Deviation:\", std_dev)\n",
        "print(\"Z-scores:\", z_scores)\n",
        "\n",
        "# Normal distribution probabilities for each salary\n",
        "probabilities = norm.pdf(salaries, mean, std_dev)\n",
        "print(\"Probabilities under Normal Distribution:\", probabilities)\n"
      ],
      "metadata": {
        "colab": {
          "base_uri": "https://localhost:8080/"
        },
        "id": "Gzsj0F3bys7e",
        "outputId": "08bae024-9c44-4c8e-823b-95ff5af158ff"
      },
      "execution_count": null,
      "outputs": [
        {
          "output_type": "stream",
          "name": "stdout",
          "text": [
            "Mean: 51.0\n",
            "Standard Deviation: 7.14142842854285\n",
            "Z-scores: [-1.54030809 -1.26025208 -0.84016805 -0.56011203 -0.14002801  0.14002801\n",
            "  0.56011203  0.84016805  1.26025208  1.54030809]\n",
            "Probabilities under Normal Distribution: [0.01705817 0.02524899 0.03925044 0.04775297 0.05531809 0.05531809\n",
            " 0.04775297 0.03925044 0.02524899 0.01705817]\n"
          ]
        }
      ]
    },
    {
      "cell_type": "markdown",
      "source": [
        "#12:Dataset: Sample data of a new drug's effect on blood pressure reduction (in\n",
        "mmHg): 10, 12, 14, 15, 13, 16, 18, 17, 19, 20\n",
        "Questions: a) Perform a t-test to determine if the new drug has a significant effect\n",
        "on blood pressure reduction. b) Report the p-value and interpret the results. c)\n",
        "Confidence Intervals"
      ],
      "metadata": {
        "id": "qzcA2HDuze33"
      }
    },
    {
      "cell_type": "code",
      "source": [
        "import numpy as np\n",
        "from scipy import stats\n",
        "\n",
        "# Dataset\n",
        "bp_reduction = np.array([10, 12, 14, 15, 13, 16, 18, 17, 19, 20])\n",
        "\n",
        "# Hypothesized mean (H0: no effect = 0 mmHg reduction)\n",
        "mu0 = 0\n",
        "\n",
        "# One-sample t-test\n",
        "t_stat, p_value = stats.ttest_1samp(bp_reduction, mu0)\n",
        "\n",
        "print(\"T-statistic:\", t_stat)\n",
        "print(\"P-value:\", p_value)\n",
        "\n",
        "# Confidence Interval (95%)\n",
        "mean = np.mean(bp_reduction)\n",
        "std_err = stats.sem(bp_reduction)   # standard error\n",
        "confidence = 0.95\n",
        "ci = stats.t.interval(confidence, len(bp_reduction)-1, loc=mean, scale=std_err)\n",
        "\n",
        "print(\"Mean blood pressure reduction:\", mean)\n",
        "print(\"95% Confidence Interval:\", ci)\n",
        "\"\""
      ],
      "metadata": {
        "colab": {
          "base_uri": "https://localhost:8080/",
          "height": 105
        },
        "id": "uFyltLpfzV7d",
        "outputId": "553ca1cd-9935-4a7c-acd2-93e3ef25744b"
      },
      "execution_count": null,
      "outputs": [
        {
          "output_type": "stream",
          "name": "stdout",
          "text": [
            "T-statistic: 15.198684153570664\n",
            "P-value: 1.0062192292419559e-07\n",
            "Mean blood pressure reduction: 15.4\n",
            "95% Confidence Interval: (np.float64(13.107879185069535), np.float64(17.692120814930465))\n"
          ]
        },
        {
          "output_type": "execute_result",
          "data": {
            "text/plain": [
              "''"
            ],
            "application/vnd.google.colaboratory.intrinsic+json": {
              "type": "string"
            }
          },
          "metadata": {},
          "execution_count": 45
        }
      ]
    },
    {
      "cell_type": "code",
      "source": [],
      "metadata": {
        "id": "xmrkM100zpwz"
      },
      "execution_count": null,
      "outputs": []
    }
  ]
}
{
  "nbformat": 4,
  "nbformat_minor": 0,
  "metadata": {
    "colab": {
      "provenance": [],
      "include_colab_link": true
    },
    "kernelspec": {
      "name": "python3",
      "display_name": "Python 3"
    },
    "language_info": {
      "name": "python"
    }
  },
  "cells": [
    {
      "cell_type": "markdown",
      "metadata": {
        "id": "view-in-github",
        "colab_type": "text"
      },
      "source": [
        "<a href=\"https://colab.research.google.com/github/sanju492/sanju_assignment/blob/main/sanju.ipynb\" target=\"_parent\"><img src=\"https://colab.research.google.com/assets/colab-badge.svg\" alt=\"Open In Colab\"/></a>"
      ]
    },
    {
      "cell_type": "markdown",
      "source": [
        "# Answer the following questions using only builtin Python datatypes and functions. Do not use Numpy or Scipy (i.e. No library imports allowed)"
      ],
      "metadata": {
        "id": "zVV_KMSIUG-A"
      }
    },
    {
      "cell_type": "markdown",
      "source": [
        "# Q1. Write a function that return the range (maximum and minimun) of a given list of numbers"
      ],
      "metadata": {
        "id": "uZnK7VgWV5SI"
      }
    },
    {
      "cell_type": "code",
      "source": [
        "def find_min_max(numbers):\n",
        "\n",
        "  min_val = numbers[0]\n",
        "  max_val = numbers[0]\n",
        "\n",
        "  for num in numbers:\n",
        "    if num < min_val:\n",
        "        min_val = num\n",
        "\n",
        "    if num > max_val:\n",
        "        max_val = num\n",
        "\n",
        "  return min_val, max_val\n",
        "\n",
        "my_list= [19,5,8,8,4,78,9,5,4]\n",
        "min_val, max_val = find_min_max(my_list)\n",
        "print(f\"Maximum value = {min_val}\\nMinimum value ={max_val} \")\n"
      ],
      "metadata": {
        "id": "vuAbJQcOWAM7",
        "colab": {
          "base_uri": "https://localhost:8080/"
        },
        "outputId": "9fe42f3c-1f94-4f4d-b2d5-5aa40e539901"
      },
      "execution_count": 1,
      "outputs": [
        {
          "output_type": "stream",
          "name": "stdout",
          "text": [
            "Maximum value = 4\n",
            "Minimum value =78 \n"
          ]
        }
      ]
    },
    {
      "cell_type": "markdown",
      "source": [
        "## Q2. Write function that returns mean value of a list of numbers"
      ],
      "metadata": {
        "id": "Y5_v5a8_U1O-"
      }
    },
    {
      "cell_type": "code",
      "source": [
        "def mean_list(numbers):\n",
        "  mean_list = sum(numbers)/len(numbers)\n",
        "  return mean_list\n",
        "\n",
        "my_list = [1,2,3,4,5]\n",
        "print(\"The mean of given list is :\",mean_list(my_list))"
      ],
      "metadata": {
        "id": "RajjEyacU7Sc",
        "colab": {
          "base_uri": "https://localhost:8080/"
        },
        "outputId": "f1514533-3b29-4541-9a33-873f7223c6ac"
      },
      "execution_count": 2,
      "outputs": [
        {
          "output_type": "stream",
          "name": "stdout",
          "text": [
            "The mean of given list is : 3.0\n"
          ]
        }
      ]
    },
    {
      "cell_type": "markdown",
      "source": [
        "# Q3. Write a function that returns the median value of a list of numbers"
      ],
      "metadata": {
        "id": "OpeRxoEoVTIP"
      }
    },
    {
      "cell_type": "code",
      "source": [
        "def find_median(numbers):\n",
        "  sorted_list =sorted(numbers)\n",
        "  length = len(sorted_list)\n",
        "  if (length % 2 != 0):\n",
        "    median_index = (length - 1) // 2\n",
        "    return sorted_list[median_index]\n",
        "  else:\n",
        "    median_index = length // 2\n",
        "    return (sorted_list[median_index - 1] + sorted_list[median_index]) / 2\n",
        "\n",
        "\n",
        "my_list = [19, 5, 8, 7, 4, 78, 9, 5, 4,6]\n",
        "median_value = find_median(my_list)\n",
        "print(\"Median value:\", median_value)"
      ],
      "metadata": {
        "id": "u1CUy0UOVaQi",
        "colab": {
          "base_uri": "https://localhost:8080/"
        },
        "outputId": "4deafe40-fb96-4bfe-b518-c0dbf1f542e5"
      },
      "execution_count": 3,
      "outputs": [
        {
          "output_type": "stream",
          "name": "stdout",
          "text": [
            "Median value: 6.5\n"
          ]
        }
      ]
    },
    {
      "cell_type": "markdown",
      "source": [
        "## Q4. Write a function to return the mod of a list of numbers, if no mod exists, it should return None. If more than one mod exist, return the mod values as list"
      ],
      "metadata": {
        "id": "2EMOG7AZSqVn"
      }
    },
    {
      "cell_type": "code",
      "execution_count": 4,
      "metadata": {
        "id": "qnMm2dhhSk3-",
        "colab": {
          "base_uri": "https://localhost:8080/"
        },
        "outputId": "971f1cea-e783-481f-f7cc-7a4048c9f9c6"
      },
      "outputs": [
        {
          "output_type": "stream",
          "name": "stdout",
          "text": [
            "[4]\n",
            "None\n"
          ]
        }
      ],
      "source": [
        "def find_mode(data):\n",
        "# Find Count occurrences\n",
        "  freq = {}\n",
        "  for num in data:\n",
        "      if num in freq:\n",
        "          freq[num] += 1\n",
        "      else:\n",
        "          freq[num] = 1\n",
        "\n",
        "# Find maximum frequency\n",
        "  max_count = max(freq.values())\n",
        "\n",
        "#if no mod exist\n",
        "  if max_count == 1:\n",
        "    return None\n",
        "#Find all numbers with frequency == max_count\n",
        "  modes = []\n",
        "  for num, count in freq.items():\n",
        "      if count == max_count:\n",
        "          modes.append(num)\n",
        "\n",
        "  return modes\n",
        "\n",
        "my_data1 = [1, 2, 2,3, 3, 3, 4, 4, 4, 4]\n",
        "my_data2 = [1, 2, 3, 4]\n",
        "\n",
        "result = find_mode(my_data1)\n",
        "result2 = find_mode(my_data2)\n",
        "print(result)\n",
        "print(result2)"
      ]
    },
    {
      "cell_type": "markdown",
      "source": [
        "## Q5. Write function to compute a given percentile value (e.g. 90th percentile) of a list of numbers"
      ],
      "metadata": {
        "id": "LcqWwqtgTCiL"
      }
    },
    {
      "cell_type": "code",
      "source": [
        "def find_percentile(numbers,percent):\n",
        "  numbers.sort()\n",
        "  n = len(numbers)\n",
        "  index = percent * n // 100\n",
        "  Q = numbers[index - 1]\n",
        "  return Q\n",
        "\n",
        "my_list = [1,2,3,4,5,6,7,8]\n",
        "my_percentile = find_percentile(my_list,90)\n",
        "\n",
        "print(my_percentile)"
      ],
      "metadata": {
        "id": "Sn307h0TTb2b",
        "colab": {
          "base_uri": "https://localhost:8080/"
        },
        "outputId": "14800f21-3ab9-4ed5-d41e-b5581a9259f0"
      },
      "execution_count": 5,
      "outputs": [
        {
          "output_type": "stream",
          "name": "stdout",
          "text": [
            "7\n"
          ]
        }
      ]
    },
    {
      "cell_type": "markdown",
      "source": [
        "# Q6. Write a function that returns the lower bound of a list of numbers"
      ],
      "metadata": {
        "id": "N-TYHkDcWOfS"
      }
    },
    {
      "cell_type": "code",
      "source": [
        "def find_lower_bound(data):\n",
        "  data.sort()\n",
        "  n=len(data)\n",
        "  #Find the index positions for Q1, Q2 (median), and Q3\n",
        "  Q1__index = (n // 4)\n",
        "  Q2__index = (n // 2)\n",
        "  Q3__index = (3 * n // 4)\n",
        "\n",
        "  Q1 = data[Q1__index - 1]\n",
        "  Q2 = data[Q2__index - 1]\n",
        "  Q3 = data[Q3__index - 1]\n",
        "\n",
        "  IQR = Q3 - Q1\n",
        "  lower_limit = Q1 - 1.5 * IQR\n",
        "  return lower_limit\n",
        "\n",
        "my_list = [85,60,72,55,105,315,380,290,190,130,95,70]\n",
        "my_list1 = [1,2,3,4,5,6,7,8,9,10]\n",
        "result = find_lower_bound(my_list)\n",
        "result1 = find_lower_bound(my_list1)\n",
        "print(f\"Lower boundary of first list: {result}\")\n",
        "print(f\"Lower Boundary of second list: {result1}\")\n"
      ],
      "metadata": {
        "id": "Y-RKPdKuW5nx",
        "colab": {
          "base_uri": "https://localhost:8080/"
        },
        "outputId": "69a151cb-b823-4110-d1db-71d3c73b4ff5"
      },
      "execution_count": 6,
      "outputs": [
        {
          "output_type": "stream",
          "name": "stdout",
          "text": [
            "Lower boundary of first list: -110.0\n",
            "Lower Boundary of second list: -5.5\n"
          ]
        }
      ]
    },
    {
      "cell_type": "markdown",
      "source": [
        "## Q7. Write function to return any outliers from a given list of numbers, if no outliers present it should return None"
      ],
      "metadata": {
        "id": "5aHfaI_jThpX"
      }
    },
    {
      "cell_type": "code",
      "source": [
        "def find_outliers(data):\n",
        "  data.sort()\n",
        "  n=len(data)\n",
        "\n",
        "  #Find the index positions for Q1, Q2 (median), and Q3\n",
        "  Q1__index = (n // 4)\n",
        "  Q2__index = (n // 2)\n",
        "  Q3__index = (3 * n // 4)\n",
        "\n",
        "  Q1 = data[Q1__index - 1]\n",
        "  Q2 = data[Q2__index - 1]\n",
        "  Q3 = data[Q3__index - 1]\n",
        "\n",
        "  IQR = Q3 - Q1\n",
        "  lower_limit = Q1 - 1.5 * IQR\n",
        "  upper_limit = Q3 + 1.5 * IQR\n",
        "\n",
        "  outliers = []  # Initialize outlier as an empty list\n",
        "  for x in data:\n",
        "    if x < lower_limit or x > upper_limit:\n",
        "      outliers.append(x)\n",
        "\n",
        "  if outliers:\n",
        "    return outliers\n",
        "  else:\n",
        "    return None\n",
        "\n",
        "my_list = [85,60,72,55,105,315,380,290,190,130,95,70]\n",
        "my_list1 = [1,2,3,4,5,6,7,8,9,10]\n",
        "result = find_outliers(my_list)\n",
        "result1 = find_outliers(my_list1)\n",
        "print(f\"outliers of first list: {result}\")\n",
        "print(f\"outliers of second list: {result1}\")"
      ],
      "metadata": {
        "id": "gG6-qzT7T0Si",
        "colab": {
          "base_uri": "https://localhost:8080/"
        },
        "outputId": "f093d8d5-e90e-4908-dcaf-83be29d04a93"
      },
      "execution_count": 7,
      "outputs": [
        {
          "output_type": "stream",
          "name": "stdout",
          "text": [
            "outliers of first list: [380]\n",
            "outliers of second list: None\n"
          ]
        }
      ]
    },
    {
      "cell_type": "markdown",
      "source": [
        "##Q8. Write a function to return standard deviation of a list of numbers"
      ],
      "metadata": {
        "id": "jI9t-tcDT5EK"
      }
    },
    {
      "cell_type": "code",
      "source": [
        "def std_dev(my_list):\n",
        "    # Calculate mean\n",
        "    mean = sum(my_list) / len(my_list)\n",
        "\n",
        "    #Calculate sum of squared differences\n",
        "    summation = 0\n",
        "    for i in my_list:\n",
        "      summation = summation + (i - mean)**2\n",
        "\n",
        "      #Calculate variance & standard deviation\n",
        "      varience = summation / len(my_list)\n",
        "      std = varience**0.5\n",
        "    return std\n",
        "\n",
        "\n",
        "my_list = [1,2,3,4,5,6]\n",
        "std = std_dev(my_list)\n",
        "print(\"Standard Deviation =\",std)\n"
      ],
      "metadata": {
        "id": "MMU_cMlLUFxJ",
        "colab": {
          "base_uri": "https://localhost:8080/"
        },
        "outputId": "cb3e9b70-2b14-4ef3-e10d-d6c78be38055"
      },
      "execution_count": 8,
      "outputs": [
        {
          "output_type": "stream",
          "name": "stdout",
          "text": [
            "Standard Deviation = 1.707825127659933\n"
          ]
        }
      ]
    },
    {
      "cell_type": "markdown",
      "source": [
        "## Q9. Write function to compute and return Z-score values of a list of numbers"
      ],
      "metadata": {
        "id": "LufmQDJPURkM"
      }
    },
    {
      "cell_type": "code",
      "source": [
        "#Z-score = x-mean/standard_deviation\n",
        "\n",
        "def std_dev(my_list):\n",
        "  # Calculate mean\n",
        "  mean = sum(my_list) / len(my_list)\n",
        "\n",
        "  #Calculate sum of squared differences\n",
        "  summation = 0\n",
        "  for i in my_list:\n",
        "    summation = summation + (i - mean)**2\n",
        "\n",
        "  #Calculate variance & standard deviation\n",
        "  varience = summation / len(my_list)\n",
        "  std = varience**0.5\n",
        "\n",
        "  z_score = [(i - mean) / std for i in my_list]\n",
        "  return z_score\n",
        "\n",
        "my_list = [1,2,3,4,5]\n",
        "print(std_dev(my_list))"
      ],
      "metadata": {
        "id": "ml2qpSpFUYxV",
        "colab": {
          "base_uri": "https://localhost:8080/"
        },
        "outputId": "d90cf242-95d1-41c7-a3ad-b979343db396"
      },
      "execution_count": 9,
      "outputs": [
        {
          "output_type": "stream",
          "name": "stdout",
          "text": [
            "[-1.414213562373095, -0.7071067811865475, 0.0, 0.7071067811865475, 1.414213562373095]\n"
          ]
        }
      ]
    },
    {
      "cell_type": "markdown",
      "source": [
        "## Q10. Write a function to compute and return the Pearson correlation coefficient value of two list of numbers"
      ],
      "metadata": {
        "id": "YQSNHIfxUb6s"
      }
    },
    {
      "cell_type": "code",
      "source": [
        "# cov(x,y)/std x *std y\n",
        "#cov(x,y) = E(xi - x_)(yi - y_)/n\n",
        "\n",
        "def pearson_correlation(x, y):\n",
        "  if len(x) != len(y):\n",
        "    raise ValueError(\"Both lists must have the same length\")\n",
        "\n",
        "  n = len(x)\n",
        "  # Calculate means\n",
        "  mean_x = sum(x) / n\n",
        "  mean_y = sum(y) / n\n",
        "  # Numerator: sum of (x - mean_x) * (y - mean_y)\n",
        "  numerator = sum((x[i] - mean_x) * (y[i] - mean_y) for i in range(n))\n",
        "  # Denominator: product of standard deviations\n",
        "  sum_sq_x = sum((x[i] - mean_x) ** 2 for i in range(n))\n",
        "  sum_sq_y = sum((y[i] - mean_y) ** 2 for i in range(n))\n",
        "  denominator = (sum_sq_x ** 0.5) * (sum_sq_y ** 0.5)\n",
        "  return numerator / denominator\n",
        "\n",
        "list1 = [1, 2, 3, 4, 5]\n",
        "list2 = [2, 4, 6, 8, 10]\n",
        "Pearson_corr = pearson_correlation(list1, list2)\n",
        "print(\"Pearson Correlation Coefficient =\", Pearson_corr)"
      ],
      "metadata": {
        "id": "1YGqr3T6Uk6H",
        "colab": {
          "base_uri": "https://localhost:8080/"
        },
        "outputId": "4392aee0-652e-40ba-bb27-5342af82b7ab"
      },
      "execution_count": 10,
      "outputs": [
        {
          "output_type": "stream",
          "name": "stdout",
          "text": [
            "Pearson Correlation Coefficient = 0.9999999999999998\n"
          ]
        }
      ]
    }
  ]
}